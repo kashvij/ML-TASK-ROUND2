{
 "cells": [
  {
   "cell_type": "code",
   "execution_count": null,
   "id": "107951fc-eced-4107-8a9f-31be759ba843",
   "metadata": {},
   "outputs": [
    {
     "name": "stdout",
     "output_type": "stream",
     "text": [
      "[LightGBM] [Info] Auto-choosing col-wise multi-threading, the overhead of testing was 0.004059 seconds.\n",
      "You can set `force_col_wise=true` to remove the overhead.\n",
      "[LightGBM] [Info] Total Bins 11266\n",
      "[LightGBM] [Info] Number of data points in the train set: 8820, number of used features: 67\n",
      "[LightGBM] [Info] Start training from score 448.512124\n"
     ]
    },
    {
     "name": "stderr",
     "output_type": "stream",
     "text": [
      "C:\\Users\\Dell\\AppData\\Local\\Programs\\Python\\Python313\\Lib\\site-packages\\sklearn\\utils\\validation.py:2749: UserWarning: X does not have valid feature names, but LGBMRegressor was fitted with feature names\n",
      "  warnings.warn(\n"
     ]
    },
    {
     "name": "stdout",
     "output_type": "stream",
     "text": [
      "[LightGBM] [Info] Auto-choosing col-wise multi-threading, the overhead of testing was 0.002352 seconds.\n",
      "You can set `force_col_wise=true` to remove the overhead.\n",
      "[LightGBM] [Info] Total Bins 11266\n",
      "[LightGBM] [Info] Number of data points in the train set: 8821, number of used features: 67\n",
      "[LightGBM] [Info] Start training from score 450.757236\n"
     ]
    },
    {
     "name": "stderr",
     "output_type": "stream",
     "text": [
      "C:\\Users\\Dell\\AppData\\Local\\Programs\\Python\\Python313\\Lib\\site-packages\\sklearn\\utils\\validation.py:2749: UserWarning: X does not have valid feature names, but LGBMRegressor was fitted with feature names\n",
      "  warnings.warn(\n"
     ]
    },
    {
     "name": "stdout",
     "output_type": "stream",
     "text": [
      "[LightGBM] [Info] Auto-choosing col-wise multi-threading, the overhead of testing was 0.002566 seconds.\n",
      "You can set `force_col_wise=true` to remove the overhead.\n",
      "[LightGBM] [Info] Total Bins 11266\n",
      "[LightGBM] [Info] Number of data points in the train set: 8821, number of used features: 67\n",
      "[LightGBM] [Info] Start training from score 449.390281\n"
     ]
    },
    {
     "name": "stderr",
     "output_type": "stream",
     "text": [
      "C:\\Users\\Dell\\AppData\\Local\\Programs\\Python\\Python313\\Lib\\site-packages\\sklearn\\utils\\validation.py:2749: UserWarning: X does not have valid feature names, but LGBMRegressor was fitted with feature names\n",
      "  warnings.warn(\n"
     ]
    },
    {
     "name": "stdout",
     "output_type": "stream",
     "text": [
      "[LightGBM] [Info] Auto-choosing col-wise multi-threading, the overhead of testing was 0.003278 seconds.\n",
      "You can set `force_col_wise=true` to remove the overhead.\n",
      "[LightGBM] [Info] Total Bins 11266\n",
      "[LightGBM] [Info] Number of data points in the train set: 8821, number of used features: 67\n",
      "[LightGBM] [Info] Start training from score 450.151827\n"
     ]
    },
    {
     "name": "stderr",
     "output_type": "stream",
     "text": [
      "C:\\Users\\Dell\\AppData\\Local\\Programs\\Python\\Python313\\Lib\\site-packages\\sklearn\\utils\\validation.py:2749: UserWarning: X does not have valid feature names, but LGBMRegressor was fitted with feature names\n",
      "  warnings.warn(\n"
     ]
    },
    {
     "name": "stdout",
     "output_type": "stream",
     "text": [
      "[LightGBM] [Info] Auto-choosing col-wise multi-threading, the overhead of testing was 0.003599 seconds.\n",
      "You can set `force_col_wise=true` to remove the overhead.\n",
      "[LightGBM] [Info] Total Bins 11266\n",
      "[LightGBM] [Info] Number of data points in the train set: 8821, number of used features: 67\n",
      "[LightGBM] [Info] Start training from score 448.595476\n"
     ]
    },
    {
     "name": "stderr",
     "output_type": "stream",
     "text": [
      "C:\\Users\\Dell\\AppData\\Local\\Programs\\Python\\Python313\\Lib\\site-packages\\sklearn\\utils\\validation.py:2749: UserWarning: X does not have valid feature names, but LGBMRegressor was fitted with feature names\n",
      "  warnings.warn(\n"
     ]
    },
    {
     "name": "stdout",
     "output_type": "stream",
     "text": [
      "CV RMSE scores: [172.85595321 176.50385594 178.9144158  181.81722389 179.92401091]\n",
      "Mean CV RMSE: 178.0030919499836\n",
      "[LightGBM] [Info] Auto-choosing col-wise multi-threading, the overhead of testing was 0.002683 seconds.\n",
      "You can set `force_col_wise=true` to remove the overhead.\n",
      "[LightGBM] [Info] Total Bins 11266\n",
      "[LightGBM] [Info] Number of data points in the train set: 11026, number of used features: 67\n",
      "[LightGBM] [Info] Start training from score 449.481411\n"
     ]
    },
    {
     "name": "stderr",
     "output_type": "stream",
     "text": [
      "C:\\Users\\Dell\\AppData\\Local\\Programs\\Python\\Python313\\Lib\\site-packages\\sklearn\\utils\\validation.py:2749: UserWarning: X does not have valid feature names, but LGBMRegressor was fitted with feature names\n",
      "  warnings.warn(\n"
     ]
    },
    {
     "name": "stdout",
     "output_type": "stream",
     "text": [
      "Saved submission8.csv\n"
     ]
    }
   ],
   "source": [
    "#THIS APPROACH BECAME VERY COMPLEX AND DID NOT PROVIDE REQUIRED OUTPUT"
   ]
  },
  {
   "cell_type": "code",
   "execution_count": null,
   "id": "432f62f6",
   "metadata": {},
   "outputs": [],
   "source": [
    "import pandas as pd\n",
    "import numpy as np\n",
    "from sklearn.model_selection import KFold, cross_val_score\n",
    "from sklearn.preprocessing import StandardScaler, OneHotEncoder\n",
    "from sklearn.impute import SimpleImputer\n",
    "from sklearn.compose import ColumnTransformer\n",
    "from sklearn.pipeline import Pipeline\n",
    "from sklearn.metrics import mean_squared_error, make_scorer\n",
    "from lightgbm import LGBMRegressor\n",
    "\n",
    "# ------------------\n",
    "# Load data\n",
    "# ------------------\n",
    "target = \"CORRUCYSTIC_DENSITY\"\n",
    "train = pd.read_csv(\"MiNDAT.csv\")\n",
    "test = pd.read_csv(\"MiNDAT_UNK.csv\")\n",
    "\n",
    "# Drop rows where target is missing\n",
    "train = train.dropna(subset=[target])\n",
    "\n",
    "X = train.drop(columns=[target])\n",
    "y = train[target]\n",
    "\n",
    "# ------------------\n",
    "# Preprocessing\n",
    "# ------------------\n",
    "numeric_features = X.select_dtypes(include=[\"int64\", \"float64\"]).columns\n",
    "categorical_features = X.select_dtypes(include=[\"object\"]).columns\n",
    "\n",
    "numeric_transformer = Pipeline(steps=[\n",
    "    (\"imputer\", SimpleImputer(strategy=\"median\")),\n",
    "    (\"scaler\", StandardScaler())\n",
    "])\n",
    "\n",
    "categorical_transformer = Pipeline(steps=[\n",
    "    (\"imputer\", SimpleImputer(strategy=\"most_frequent\")),\n",
    "    (\"encoder\", OneHotEncoder(handle_unknown=\"ignore\"))\n",
    "])\n",
    "\n",
    "preprocessor = ColumnTransformer(\n",
    "    transformers=[\n",
    "        (\"num\", numeric_transformer, numeric_features),\n",
    "        (\"cat\", categorical_transformer, categorical_features)\n",
    "    ]\n",
    ")\n",
    "\n",
    "# ------------------\n",
    "# Model: LightGBM\n",
    "# ------------------\n",
    "model = LGBMRegressor(\n",
    "    n_estimators=1000,\n",
    "    learning_rate=0.05,\n",
    "    max_depth=-1,\n",
    "    subsample=0.8,\n",
    "    colsample_bytree=0.8,\n",
    "    random_state=42,\n",
    "    n_jobs=-1\n",
    ")\n",
    "\n",
    "pipeline = Pipeline(steps=[\n",
    "    (\"preprocessor\", preprocessor),\n",
    "    (\"model\", model)\n",
    "])\n",
    "\n",
    "# ------------------\n",
    "# Cross-validation\n",
    "# ------------------\n",
    "kf = KFold(n_splits=5, shuffle=True, random_state=42)\n",
    "rmse_scorer = make_scorer(lambda y_true, y_pred: np.sqrt(mean_squared_error(y_true, y_pred)), greater_is_better=False)\n",
    "\n",
    "cv_scores = cross_val_score(pipeline, X, y, cv=kf, scoring=rmse_scorer)\n",
    "print(\"CV RMSE scores:\", -cv_scores)\n",
    "print(\"Mean CV RMSE:\", -cv_scores.mean())\n",
    "\n",
    "# ------------------\n",
    "# Train on full data\n",
    "# ------------------\n",
    "pipeline.fit(X, y)\n",
    "\n",
    "# Predict on test\n",
    "preds = pipeline.predict(test)\n",
    "\n",
    "# ------------------\n",
    "# Save submission\n",
    "# ------------------\n",
    "submission = pd.DataFrame({\n",
    "    \"Id\": test.index,  # Adjust if test set has its own ID column\n",
    "    target: preds\n",
    "})\n",
    "\n",
    "submission.to_csv(\"submission8.csv\", index=False)\n",
    "print(\"Saved submission8.csv\")\n"
   ]
  },
  {
   "cell_type": "code",
   "execution_count": null,
   "id": "8190a1fc-7041-436b-b622-0b151f6cc827",
   "metadata": {},
   "outputs": [],
   "source": []
  }
 ],
 "metadata": {
  "kernelspec": {
   "display_name": "Python 3 (ipykernel)",
   "language": "python",
   "name": "python3"
  },
  "language_info": {
   "codemirror_mode": {
    "name": "ipython",
    "version": 3
   },
   "file_extension": ".py",
   "mimetype": "text/x-python",
   "name": "python",
   "nbconvert_exporter": "python",
   "pygments_lexer": "ipython3",
   "version": "3.13.7"
  }
 },
 "nbformat": 4,
 "nbformat_minor": 5
}
